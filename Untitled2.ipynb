{
  "nbformat": 4,
  "nbformat_minor": 0,
  "metadata": {
    "colab": {
      "provenance": [],
      "authorship_tag": "ABX9TyP2ZI7XYxiEgqBjsQSdxBs4",
      "include_colab_link": true
    },
    "kernelspec": {
      "name": "python3",
      "display_name": "Python 3"
    },
    "language_info": {
      "name": "python"
    },
    "accelerator": "GPU",
    "gpuClass": "standard"
  },
  "cells": [
    {
      "cell_type": "markdown",
      "metadata": {
        "id": "view-in-github",
        "colab_type": "text"
      },
      "source": [
        "<a href=\"https://colab.research.google.com/github/TRIGUN1703/ko-m/blob/main/Untitled2.ipynb\" target=\"_parent\"><img src=\"https://colab.research.google.com/assets/colab-badge.svg\" alt=\"Open In Colab\"/></a>"
      ]
    },
    {
      "cell_type": "code",
      "execution_count": 19,
      "metadata": {
        "colab": {
          "base_uri": "https://localhost:8080/"
        },
        "id": "iAx1VxVLlpz5",
        "outputId": "a10d51e6-defa-455b-e1f5-1d4606c01bca"
      },
      "outputs": [
        {
          "output_type": "stream",
          "name": "stdout",
          "text": [
            "Epoch 1/25\n",
            "341/341 [==============================] - 2s 3ms/step - loss: 1.3565\n",
            "Epoch 2/25\n",
            "341/341 [==============================] - 1s 3ms/step - loss: 0.5863\n",
            "Epoch 3/25\n",
            "341/341 [==============================] - 1s 3ms/step - loss: 0.6455\n",
            "Epoch 4/25\n",
            "341/341 [==============================] - 1s 3ms/step - loss: 0.5872\n",
            "Epoch 5/25\n",
            "341/341 [==============================] - 1s 3ms/step - loss: 0.4303\n",
            "Epoch 6/25\n",
            "341/341 [==============================] - 1s 4ms/step - loss: 0.4896\n",
            "Epoch 7/25\n",
            "341/341 [==============================] - 1s 4ms/step - loss: 0.4202\n",
            "Epoch 8/25\n",
            "341/341 [==============================] - 1s 3ms/step - loss: 0.4417\n",
            "Epoch 9/25\n",
            "341/341 [==============================] - 1s 3ms/step - loss: 0.4535\n",
            "Epoch 10/25\n",
            "341/341 [==============================] - 1s 3ms/step - loss: 0.3675\n",
            "Epoch 11/25\n",
            "341/341 [==============================] - 1s 3ms/step - loss: 0.4980\n",
            "Epoch 12/25\n",
            "341/341 [==============================] - 1s 3ms/step - loss: 0.3856\n",
            "Epoch 13/25\n",
            "341/341 [==============================] - 1s 3ms/step - loss: 0.4003\n",
            "Epoch 14/25\n",
            "341/341 [==============================] - 1s 3ms/step - loss: 0.3597\n",
            "Epoch 15/25\n",
            "341/341 [==============================] - 1s 3ms/step - loss: 0.3396\n",
            "Epoch 16/25\n",
            "341/341 [==============================] - 1s 3ms/step - loss: 0.3408\n",
            "Epoch 17/25\n",
            "341/341 [==============================] - 1s 3ms/step - loss: 0.2734\n",
            "Epoch 18/25\n",
            "341/341 [==============================] - 1s 4ms/step - loss: 0.3644\n",
            "Epoch 19/25\n",
            "341/341 [==============================] - 1s 4ms/step - loss: 0.3604\n",
            "Epoch 20/25\n",
            "341/341 [==============================] - 1s 3ms/step - loss: 0.3240\n",
            "Epoch 21/25\n",
            "341/341 [==============================] - 1s 3ms/step - loss: 0.3253\n",
            "Epoch 22/25\n",
            "341/341 [==============================] - 1s 3ms/step - loss: 0.3508\n",
            "Epoch 23/25\n",
            "341/341 [==============================] - 1s 3ms/step - loss: 0.3178\n",
            "Epoch 24/25\n",
            "341/341 [==============================] - 1s 3ms/step - loss: 0.3990\n",
            "Epoch 25/25\n",
            "341/341 [==============================] - 1s 3ms/step - loss: 0.2897\n",
            "8/8 [==============================] - 0s 2ms/step\n",
            "Total 228\n",
            "Correct 162\n",
            "Wrong 66\n"
          ]
        }
      ],
      "source": [
        "from sklearn.datasets import load_breast_cancer \n",
        "data = load_breast_cancer()\n",
        "import numpy as np\n",
        "from sklearn.model_selection import train_test_split \n",
        "x,y = load_breast_cancer(return_X_y=True) \n",
        "X_train, X_test, y_train, y_test = train_test_split(x, y, test_size=0.4, random_state=True) \n",
        "from keras.models import Sequential \n",
        "from keras.layers import Dense \n",
        "classifier = Sequential() # Инициализация НС\n",
        "classifier.add(Dense(units = 16, activation = 'relu', input_dim = 30)) \n",
        "classifier.add(Dense(units = 8, activation = 'relu')) \n",
        "classifier.add(Dense(units = 6, activation = 'relu'))   \n",
        "classifier.add(Dense(units = 1, activation = 'sigmoid'))\n",
        "classifier.compile(optimizer = 'rmsprop', loss = 'binary_crossentropy')\n",
        "classifier.fit(X_train, y_train, batch_size = 1, epochs = 25)\n",
        "Y_pred = classifier.predict(X_test) \n",
        "Y_pred = [ 1 if y>=0.5 else 0 for y in Y_pred ] \n",
        "total = 0\n",
        "correct = 0\n",
        "wrong = 0\n",
        "for i in range(len(Y_pred)):\n",
        " total=total+1\n",
        " if(str(y_test[i]) == str(Y_pred[i])):\n",
        "  correct=correct+1\n",
        " else:\n",
        "  wrong=wrong+1\n",
        "\n",
        "print(\"Total \" + str(total))\n",
        "print(\"Correct \" + str(correct))\n",
        "print(\"Wrong \" + str(wrong))\n",
        "\n"
      ]
    }
  ]
}